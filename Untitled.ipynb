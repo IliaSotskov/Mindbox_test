{
 "cells": [
  {
   "cell_type": "code",
   "execution_count": null,
   "metadata": {},
   "outputs": [],
   "source": [
    "from pyspark.sql import SparkSession\n",
    "from pyspark.sql.functions import col\n",
    "\n",
    "def get_product_category_pairs(products_df, categories_df, relations_df):\n",
    "    \"\"\"\n",
    "    Возвращает датафрейм с парами \"Имя продукта - Имя категории\" и продуктами без категорий\n",
    "    \n",
    "    \n",
    "    products_df - дф продуктов с колонками: product_id, product_name\n",
    "    categories_df - дф категорий с колонками: category_id, category_name\n",
    "    relations_df - дф связей с колонками: product_id, category_id\n",
    "    \n",
    "    аутпут:\n",
    "    DataFrame с колонками: product_name, category_name\n",
    "    \"\"\"\n",
    "    # создание Spark сессию\n",
    "    spark = SparkSession.builder.getOrCreate()\n",
    "    \n",
    "    # получение пар (продукт - категория)\n",
    "    product_category_pairs = relations_df.join(\n",
    "        products_df, \"product_id\", \"inner\"\n",
    "    ).join(\n",
    "        categories_df, \"category_id\", \"inner\"\n",
    "    ).select(\n",
    "        \"product_name\", \n",
    "        \"category_name\"\n",
    "    )\n",
    "    \n",
    "    # 2. поиск прод без кат\n",
    "    products_without_categories = products_df.join(\n",
    "        relations_df, \"product_id\", \"left_anti\"\n",
    "    ).select(\n",
    "        col(\"product_name\"), \n",
    "        col(\"category_name\").alias(\"category_name\").cast(\"string\")\n",
    "    ).withColumn(\n",
    "        \"category_name\", \n",
    "        col(\"category_name\")  # колонка с NULL для кат\n",
    "    )\n",
    "    \n",
    "    # 3. мерджим результаты\n",
    "    result = product_category_pairs.union(products_without_categories)\n",
    "    \n",
    "    return result"
   ]
  }
 ],
 "metadata": {
  "kernelspec": {
   "display_name": "Python 3",
   "language": "python",
   "name": "python3"
  },
  "language_info": {
   "codemirror_mode": {
    "name": "ipython",
    "version": 3
   },
   "file_extension": ".py",
   "mimetype": "text/x-python",
   "name": "python",
   "nbconvert_exporter": "python",
   "pygments_lexer": "ipython3",
   "version": "3.7.3"
  }
 },
 "nbformat": 4,
 "nbformat_minor": 4
}
