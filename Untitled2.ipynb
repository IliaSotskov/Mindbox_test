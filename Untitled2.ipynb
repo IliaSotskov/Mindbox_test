{
 "cells": [
  {
   "cell_type": "code",
   "execution_count": null,
   "metadata": {},
   "outputs": [],
   "source": [
    "import math\n",
    "from abc import ABC, abstractmethod\n",
    "from typing import Union, Tuple\n",
    "\n",
    "class Shape(ABC):\n",
    "    \"\"\"класс для геометрических фигур\"\"\"\n",
    "    \n",
    "    @abstractmethod\n",
    "    def area(self) -> float:\n",
    "        \"\"\"площадь фигуры\"\"\"\n",
    "        pass\n",
    "\n",
    "class Circle(Shape):\n",
    "    \"\"\"круги\"\"\"\n",
    "    \n",
    "    def __init__(self, radius: float):\n",
    "        if radius <= 0:\n",
    "            raise ValueError(\"Радиус >0\")\n",
    "        self.radius = radius\n",
    "    \n",
    "    def area(self) -> float:\n",
    "        return math.pi * self.radius ** 2\n",
    "\n",
    "class Triangle(Shape):\n",
    "    \"\"\"треугольники\"\"\"\n",
    "    \n",
    "    def __init__(self, a: float, b: float, c: float):\n",
    "        self.sides = (a, b, c)\n",
    "        if any(side <= 0 for side in self.sides):\n",
    "            raise ValueError(\"Все стороны > положительными\")\n",
    "        if not self._is_valid_triangle():\n",
    "            raise ValueError(\"не существует\")\n",
    "    \n",
    "    def _is_valid_triangle(self) -> bool:\n",
    "        a, b, c = sorted(self.sides)\n",
    "        return a + b > c\n",
    "    \n",
    "    def is_right_angled(self) -> bool:\n",
    "        \"\"\"проверка, что треугольник  является  прямоугольным\"\"\"\n",
    "        a, b, c = sorted(self.sides)\n",
    "        return math.isclose(a**2 + b**2, c**2, rel_tol=1e-9)\n",
    "    \n",
    "    def area(self) -> float:\n",
    "        a, b, c = self.sides\n",
    "        if self.is_right_angled():\n",
    "            # Для прямоугольного простая формула:\n",
    "            return a * b / 2 if math.isclose(c, math.hypot(a, b)) else \\\n",
    "                   a * c / 2 if math.isclose(b, math.hypot(a, c)) else \\\n",
    "                   b * c / 2\n",
    "        # Формула Герона для общего случая:\n",
    "        p = (a + b + c) / 2\n",
    "        return math.sqrt(p * (p - a) * (p - b) * (p - c))\n",
    "\n",
    "def calculate_area(shape: Shape) -> float:\n",
    "    \"\"\"площадь фигуры без знания конкретного типа\"\"\"\n",
    "    return shape.area()"
   ]
  }
 ],
 "metadata": {
  "kernelspec": {
   "display_name": "Python 3",
   "language": "python",
   "name": "python3"
  },
  "language_info": {
   "codemirror_mode": {
    "name": "ipython",
    "version": 3
   },
   "file_extension": ".py",
   "mimetype": "text/x-python",
   "name": "python",
   "nbconvert_exporter": "python",
   "pygments_lexer": "ipython3",
   "version": "3.7.3"
  }
 },
 "nbformat": 4,
 "nbformat_minor": 4
}
